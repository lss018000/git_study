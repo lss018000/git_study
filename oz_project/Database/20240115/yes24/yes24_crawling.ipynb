{
 "cells": [
  {
   "cell_type": "code",
   "execution_count": 3,
   "metadata": {},
   "outputs": [
    {
     "data": {
      "text/plain": [
       "'/Users/devhypnos_i9_64g/.wdm/drivers/chromedriver/mac64/120.0.6099.109/chromedriver-mac-x64/chromedriver'"
      ]
     },
     "execution_count": 3,
     "metadata": {},
     "output_type": "execute_result"
    }
   ],
   "source": [
    "# webdriver-manager 라이브러리 불러오기\n",
    "from webdriver_manager.chrome import ChromeDriverManager\n",
    "ChromeDriverManager().install()"
   ]
  },
  {
   "cell_type": "code",
   "execution_count": 4,
   "metadata": {},
   "outputs": [],
   "source": [
    "from selenium import webdriver\n",
    "browser = webdriver.Chrome()"
   ]
  },
  {
   "cell_type": "code",
   "execution_count": 5,
   "metadata": {},
   "outputs": [],
   "source": [
    "url = 'https://google.com'\n",
    "browser.get(url)"
   ]
  },
  {
   "cell_type": "code",
   "execution_count": 6,
   "metadata": {},
   "outputs": [
    {
     "data": {
      "text/plain": [
       "'대한민국'"
      ]
     },
     "execution_count": 6,
     "metadata": {},
     "output_type": "execute_result"
    }
   ],
   "source": [
    "from selenium.webdriver.common.by import By\n",
    "\n",
    "browser.find_element(By.CLASS_NAME, 'uU7dJb').text"
   ]
  },
  {
   "cell_type": "code",
   "execution_count": 7,
   "metadata": {},
   "outputs": [],
   "source": [
    "url = 'https://www.yes24.com/Product/Category/BestSeller?categoryNumber=001&pageNumber=1&pageSize=5'\n",
    "browser.get(url)"
   ]
  },
  {
   "cell_type": "code",
   "execution_count": 8,
   "metadata": {},
   "outputs": [
    {
     "name": "stdout",
     "output_type": "stream",
     "text": [
      "https://www.yes24.com/Product/Goods/124574394\n",
      "https://www.yes24.com/Product/Goods/122120495\n",
      "https://www.yes24.com/Product/Goods/117014613\n",
      "https://www.yes24.com/Product/Goods/123675187\n",
      "https://www.yes24.com/Product/Goods/124112599\n",
      "https://www.yes24.com/Product/Goods/124043812\n",
      "https://www.yes24.com/Product/Goods/124043802\n",
      "https://www.yes24.com/Product/Goods/124501342\n",
      "https://www.yes24.com/Product/Goods/123930880\n",
      "https://www.yes24.com/Product/Goods/122090360\n",
      "https://www.yes24.com/Product/Goods/123930891\n",
      "https://www.yes24.com/Product/Goods/122944685\n",
      "https://www.yes24.com/Product/Goods/124127709\n",
      "https://www.yes24.com/Product/Goods/124341556\n",
      "https://www.yes24.com/Product/Goods/118579613\n",
      "https://www.yes24.com/Product/Goods/122426425\n",
      "https://www.yes24.com/Product/Goods/123155346\n",
      "https://www.yes24.com/Product/Goods/122428190\n",
      "https://www.yes24.com/Product/Goods/123400303\n",
      "https://www.yes24.com/Product/Goods/124489213\n",
      "https://www.yes24.com/Product/Goods/124341408\n",
      "https://www.yes24.com/Product/Goods/118413014\n",
      "https://www.yes24.com/Product/Goods/79297023\n",
      "https://www.yes24.com/Product/Goods/124027690\n"
     ]
    }
   ],
   "source": [
    "### 1page 링크 데이터 가져오기\n",
    "browser.find_element(By.CLASS_NAME, 'gd_name').get_attribute('href')\n",
    "\n",
    "\n",
    "datas = browser.find_elements(By.CLASS_NAME, 'gd_name')\n",
    "\n",
    "\n",
    "for i in datas:\n",
    "    print(i.get_attribute('href'))"
   ]
  },
  {
   "cell_type": "code",
   "execution_count": 110,
   "metadata": {},
   "outputs": [
    {
     "name": "stdout",
     "output_type": "stream",
     "text": [
      "********** 현재 1 페이지 수집 중 입니다. **********\n",
      "********** 현재 2 페이지 수집 중 입니다. **********\n",
      "********** 현재 3 페이지 수집 중 입니다. **********\n"
     ]
    }
   ],
   "source": [
    "#3page까지의 링크 데이터 전부 수집\n",
    "# https://www.yes24.com/Product/Category/BestSeller?categoryNumber=001&pageNumber=1&pageSize=24\n",
    "# https://www.yes24.com/Product/Category/BestSeller?categoryNumber=001&pageNumber=2&pageSize=24\n",
    "# https://www.yes24.com/Product/Category/BestSeller?categoryNumber=001&pageNumber=3&pageSize=24\n",
    "import time\n",
    "\n",
    "link_list = []\n",
    "for i in range(1,4):\n",
    "    print(\"*\" * 10, f\"현재 {i} 페이지 수집 중 입니다.\",\"*\" * 10)\n",
    "    url = f'https://www.yes24.com/Product/Category/BestSeller?categoryNumber=001&pageNumber={i}&pageSize=1'\n",
    "    browser.get(url)\n",
    "    \n",
    "    browser.find_element(By.CLASS_NAME, 'gd_name').get_attribute('href')\n",
    "    \n",
    "    datas = browser.find_elements(By.CLASS_NAME, 'gd_name')\n",
    "    \n",
    "    for i in datas:\n",
    "        # print(i.get_attribute('href'))\n",
    "        link = i.get_attribute('href')\n",
    "        link_list.append(link)\n",
    "    \n",
    "    time.sleep(3)"
   ]
  },
  {
   "cell_type": "code",
   "execution_count": 78,
   "metadata": {},
   "outputs": [
    {
     "data": {
      "text/plain": [
       "15"
      ]
     },
     "execution_count": 78,
     "metadata": {},
     "output_type": "execute_result"
    }
   ],
   "source": [
    "len(link_list)"
   ]
  },
  {
   "cell_type": "code",
   "execution_count": 99,
   "metadata": {},
   "outputs": [
    {
     "name": "stdout",
     "output_type": "stream",
     "text": [
      "\n",
      "\n"
     ]
    }
   ],
   "source": [
    "# import datetime\n",
    "import time\n",
    "import re\n",
    "from datetime import datetime\n",
    "# 상세 페이지로 이동\n",
    "# for link in link_list:\n",
    "#     # 상세 페이지로 이동\n",
    "#     browser.get(link)\n",
    "\n",
    "browser.get(link_list[0])\n",
    "\n",
    "title = browser.find_element(By.CLASS_NAME, 'gd_name').text\n",
    "author = browser.find_element(By.CLASS_NAME, 'gd_auth').text\n",
    "publisher1 = browser.find_element(By.CLASS_NAME, 'gd_pub').text\n",
    "publisher = browser.find_element(By.CLASS_NAME, 'gd_pub').find_element(By.TAG_NAME, 'a').text\n",
    "print(publisher1)\n",
    "\n",
    "publishing = browser.find_element(By.CLASS_NAME, 'gd_date').text\n",
    "print(publishing)\n",
    "\n",
    "\n",
    "# match = re.search(r'(\\d+)년 (\\d+)월 (\\d+)일', publishing)\n",
    "# print(match)\n",
    "        \n",
    "# if match:\n",
    "#     year, month, day = match.groups()\n",
    "#     data_obj = datetime(int(year), int(month), int(day))\n",
    "#     publishing = data_obj.strftime(\"%Y-%m-%d\")\n",
    "# else :\n",
    "#     publishing = \"1900-01-01\"\n",
    "    \n",
    "rating = browser.find_element(By.CLASS_NAME, 'yes_b').text\n",
    "review = browser.find_element(By.CLASS_NAME, 'gd_reviewCount').find_element(By.CLASS_NAME, 'txC_blue').text\n",
    "review = int(review.replace(\",\", \"\"))\n",
    "\n",
    "sales = browser.find_element(By.CLASS_NAME, 'gd_sellNum').text.split(\" \")[2]\n",
    "sales = int(sales.replace(\",\", \"\"))\n",
    "\n",
    "price = browser.find_element(By.CLASS_NAME, 'yes_m').text[:-1]\n",
    "price = int(price.replace(\",\", \"\"))\n",
    "\n",
    "# ranking_area = browser.find_element(By.CLASS_NAME, 'gd_best').text\n",
    "# val = \"|\" not in ranking_area\n",
    "# if val:\n",
    "#     ranking = ''\n",
    "#     raning_weeks = ''\n",
    "# else:\n",
    "#     ranking = browser.find_element(By.CLASS_NAME, 'gd_best').text.split(\" | \")[0]\n",
    "#     ranking_weeks = browser.find_element(By.CLASS_NAME, 'gd_best').text.split(\" | \")[1]\n",
    "    \n",
    "# ranking = browser.find_element(By.CLASS_NAME, 'gd_best').text.split(\" | \").splie(\" \")[1][:-1]\n",
    "# ranking_weeks = browser.find_element(By.CLASS_NAME, 'gd_best').text.split(\" | \")[1].splie(\" \")[2][:-1]\n",
    "\n",
    "full_text = browser.find_element(By.CLASS_NAME, 'gd_best').text\n",
    "parts = full_text.split(\" | \")\n",
    "\n",
    "   \n",
    "if len(parts)== 1:\n",
    "    ranking = 0\n",
    "    ranking_weeks = 0\n",
    "else:\n",
    "    try:\n",
    "        ranking_part = parts[0]\n",
    "        ranking = ''.join(filter(str.isdigit, ranking_part))\n",
    "    except:\n",
    "        ranking = 0\n",
    "\n",
    "    try:\n",
    "        ranking_weeks_part = parts[1]\n",
    "        ranking_weeks = ''.join(filter(str.isdigit, ranking_weeks_part.split()[-1]))\n",
    "    except:\n",
    "        ranking_weeks = 0\n",
    "    \n",
    "\n",
    "    \n",
    "\n"
   ]
  },
  {
   "cell_type": "code",
   "execution_count": 80,
   "metadata": {},
   "outputs": [
    {
     "data": {
      "text/plain": [
       "'932,722'"
      ]
     },
     "execution_count": 80,
     "metadata": {},
     "output_type": "execute_result"
    }
   ],
   "source": [
    "text = \"'| 판매지수 932,722 판매지수란?'\"\n",
    "\n",
    "text.split(\" \")[2]\n"
   ]
  },
  {
   "cell_type": "code",
   "execution_count": 126,
   "metadata": {},
   "outputs": [
    {
     "name": "stdout",
     "output_type": "stream",
     "text": [
      "23000\n",
      "\n",
      "17000\n",
      "\n",
      "7200\n",
      "\n"
     ]
    }
   ],
   "source": [
    "# 데이터 베이스 연동 후 -> 수집한 데이터를 DB에 저장 (csv)\n",
    "import pymysql\n",
    "import time\n",
    "import re\n",
    "from datetime import datetime\n",
    "\n",
    "conn = pymysql.connect(\n",
    "    host='localhost',\n",
    "    user='root',\n",
    "    password='lss018000',\n",
    "    db='yes24',\n",
    "    charset='utf8mb4',\n",
    "    cursorclass=pymysql.cursors.DictCursor\n",
    ")\n",
    "\n",
    "with conn.cursor() as cursor:\n",
    "    for link in link_list:\n",
    "        browser.get(link)\n",
    "        \n",
    "        title = browser.find_element(By.CLASS_NAME, 'gd_name').text\n",
    "        author = browser.find_element(By.CLASS_NAME, 'gd_auth').text\n",
    "        publisher = browser.find_element(By.CLASS_NAME, 'gd_pub').text\n",
    "        publishing = browser.find_element(By.CLASS_NAME, 'gd_date').text\n",
    "        match = re.search(r'(\\d+)년 (\\d+)월 (\\d+)일', publishing)\n",
    "\n",
    "        \n",
    "        if match:\n",
    "            year, month, day = match.groups()\n",
    "            data_obj = datetime(int(year), int(month), int(day))\n",
    "            publishing = data_obj.strftime(\"%Y-%m-%d\")\n",
    "        else :\n",
    "            publishing = \"1900-01-01\"\n",
    "            \n",
    "        rating = browser.find_element(By.CLASS_NAME, 'yes_b').text\n",
    "        review = browser.find_element(By.CLASS_NAME, 'gd_reviewCount').find_element(By.CLASS_NAME, 'txC_blue').text\n",
    "        review = int(review.replace(\",\", \"\"))\n",
    "        \n",
    "\n",
    "        sales = browser.find_element(By.CLASS_NAME, 'gd_sellNum').text.split(\" \")[2]\n",
    "        sales = int(sales.replace(\",\", \"\"))\n",
    "\n",
    "        price = browser.find_element(By.CLASS_NAME, 'yes_m').text[:-1]\n",
    "        price = int(price.replace(\",\", \"\"))\n",
    "        print(price)\n",
    "        ranking = browser.find_element(By.CLASS_NAME, 'gd_best gd_best_tp02')\n",
    "        print(ranking.text)\n",
    "    \n",
    "        \n",
    "        # val = \"|\" not in ranking_area\n",
    "        # if val:\n",
    "        #     ranking = ''\n",
    "        #     raning_weeks = ''\n",
    "        # else:\n",
    "        #     ranking = browser.find_element(By.CLASS_NAME, 'gd_best').text.split(\" | \")[0]\n",
    "        #     ranking_weeks = browser.find_element(By.CLASS_NAME, 'gd_best').text.split(\" | \")[1]\n",
    "        \n",
    "          \n",
    "        # ranking = browser.find_element(By.CLASS_NAME, 'gd_best').text.split(\" | \").splie(\" \")[1][:-1]\n",
    "        # ranking_weeks = browser.find_element(By.CLASS_NAME, 'gd_best').text.split(\" | \")[1].splie(\" \")[2][:-1]\n",
    "\n",
    "        # full_text = browser.find_element(By.CLASS_NAME, 'gd_best').text\n",
    "        # parts = full_text.split(\" | \")\n",
    "\n",
    "        \n",
    "        # if len(parts)== 1:\n",
    "        #     ranking = 0\n",
    "        #     ranking_weeks = 0\n",
    "        # else:\n",
    "        #     try:\n",
    "        #         ranking_part = parts[0]\n",
    "        #         ranking = ''.join(filter(str.isdigit, ranking_part))\n",
    "        #     except:\n",
    "        #         ranking = 0\n",
    "\n",
    "        #     try:\n",
    "        #         ranking_weeks_part = parts[1]\n",
    "        #         ranking_weeks = ''.join(filter(str.isdigit, ranking_weeks_part.split()[-1]))\n",
    "        #     except:\n",
    "        #         ranking_weeks = 0\n",
    "        \n",
    "        # sql = \"INSERT INTO Books (title, author, publisher, publishing, rating, review, sales, price, ranking, ranking_weeks) VALUES (%s, %s, %s, %s, %s, %s, %s, %s, %s, %s)\"\n",
    "        # cursor.execute(sql, (title, author, publisher, publishing, rating, review, sales, price, ranking, ranking_weeks))\n",
    "        # conn.commit()\n",
    "        \n",
    "        # time.sleep(2)"
   ]
  }
 ],
 "metadata": {
  "kernelspec": {
   "display_name": "Python 3",
   "language": "python",
   "name": "python3"
  },
  "language_info": {
   "codemirror_mode": {
    "name": "ipython",
    "version": 3
   },
   "file_extension": ".py",
   "mimetype": "text/x-python",
   "name": "python",
   "nbconvert_exporter": "python",
   "pygments_lexer": "ipython3",
   "version": "3.11.7"
  }
 },
 "nbformat": 4,
 "nbformat_minor": 2
}
